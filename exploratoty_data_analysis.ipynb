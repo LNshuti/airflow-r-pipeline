{
 "cells": [
  {
   "cell_type": "code",
   "execution_count": null,
   "id": "6f316b08",
   "metadata": {},
   "outputs": [],
   "source": [
    "# Bar graph of sales by country\n",
    "import pandas as pd\n",
    "import plotly.express as px\n",
    "ecom_sales = pd.read_csv('/usr/local/share/datasets/ecom_sales.csv')\n",
    "ecom_sales = ecom_sales.groupby('Country')['OrderValue'].agg('sum').reset_index(name='Total Sales ($)')"
   ]
  },
  {
   "cell_type": "code",
   "execution_count": null,
   "id": "5c2d4104",
   "metadata": {},
   "outputs": [],
   "source": [
    "# Create the line graph\n",
    "line_graph = px.line(\n",
    "  # Set the appropriate DataFrame and title\n",
    "  data_frame=ecom_sales, title='Total Sales by Country and Month', \n",
    "  # Set the x and y arguments\n",
    "  x ='Year-Month', y ='Total Sales ($)',\n",
    "  # Ensure a separate line per country\n",
    "  color='Country')\n",
    "\n",
    "line_graph.show()"
   ]
  },
  {
   "cell_type": "code",
   "execution_count": null,
   "id": "e5935103",
   "metadata": {},
   "outputs": [],
   "source": [
    "reset_index(name='Total Sales ($)')\n",
    "# Create the bar graph object\n",
    "bar_fig = px.bar(\n",
    "  # Set the DataFrame, x and y\n",
    "  data_frame=ecom_sales, x='Total Sales ($)', y='Country',\n",
    "  # Set the graph to be horizontal\n",
    "  orientation='h', title='Total Sales by Country')\n",
    "\n",
    "# Increase the gap between bars\n",
    "bar_fig.update_layout({'bargap': 0.5})\n",
    "\n",
    "bar_fig.show()"
   ]
  }
 ],
 "metadata": {
  "kernelspec": {
   "display_name": "Python 3 (ipykernel)",
   "language": "python",
   "name": "python3"
  },
  "language_info": {
   "codemirror_mode": {
    "name": "ipython",
    "version": 3
   },
   "file_extension": ".py",
   "mimetype": "text/x-python",
   "name": "python",
   "nbconvert_exporter": "python",
   "pygments_lexer": "ipython3",
   "version": "3.8.10"
  }
 },
 "nbformat": 4,
 "nbformat_minor": 5
}
